{
  "nbformat": 4,
  "nbformat_minor": 0,
  "metadata": {
    "colab": {
      "provenance": []
    },
    "kernelspec": {
      "name": "python3",
      "display_name": "Python 3"
    },
    "language_info": {
      "name": "python"
    }
  },
  "cells": [
    {
      "cell_type": "markdown",
      "source": [
        "# Menu for Python Console App"
      ],
      "metadata": {
        "id": "b9nlFoLzbkP2"
      }
    },
    {
      "cell_type": "markdown",
      "source": [
        "In the previous exercises, we have created a few functions to manage employees information such as adding new employees, and print the list of employees.\n",
        "\n",
        "In this exercise, you will practice creating a simple menu that allows users to access and select different functions or options within your application. The menu helps make the application more user-friend by providing an organized and easily navigable list of options."
      ],
      "metadata": {
        "id": "R0I2pXQNbs8p"
      }
    },
    {
      "cell_type": "code",
      "source": [
        "# Leonardo Pereira\n",
        "\n",
        "# Let review the functions we have created in lab 04 exercise."
      ],
      "metadata": {
        "id": "V_OYli8QbsPM"
      },
      "execution_count": null,
      "outputs": []
    },
    {
      "cell_type": "code",
      "source": [
        "#print employees\n",
        "employees = []\n",
        "employees.append([1, \"Leo\", \"full-time\", 40, 15, \"ON\", 0])\n",
        "employees.append([2, \"Jane\", \"part-time\", 20, 15, \"ON\", 0])\n",
        "def print_employees():\n",
        "    print(\"Employee stats\")\n",
        "    for employee in employees:\n",
        "        print(str(employee[0]) + \", \" + employee[1] + \", \" + employee[2] + \", \" + str(employee[3]) + \", \" + str(employee[4]) + \", \" + employee[5] + \", \" + str(employee[6]))\n",
        "\n",
        "#helper methods for user_input validation\n",
        "def get_valid_input(prompt_message):\n",
        "  while True:\n",
        "    user_input = input(prompt_message)\n",
        "    if user_input:\n",
        "      return user_input\n",
        "    print(\"Input cannot be empty, try again\")\n",
        "#create employees\n",
        "def get_valid_type(prompt_message, types):\n",
        "  while True:\n",
        "    user_input = input(prompt_message)\n",
        "    if user_input and user_input in types:\n",
        "      return user_input\n",
        "    print(\"Please enter one of the following values: \" + ', '.join(types))\n",
        "\n",
        "def get_valid_number(prompt_message):\n",
        "  while True:\n",
        "    user_input = input(prompt_message)\n",
        "    if user_input and user_input.isnumeric():\n",
        "      return int(user_input)\n",
        "    print(\"Enter a number\")\n"
      ],
      "metadata": {
        "id": "JYLSbNUDdHH4"
      },
      "execution_count": 41,
      "outputs": []
    },
    {
      "cell_type": "code",
      "source": [
        "#create employees\n",
        "def create_employees_validation():\n",
        "  is_continue = True\n",
        "  while is_continue:\n",
        "    employee_ID = get_valid_number(\"Enter employee ID: \")\n",
        "    employee_name = get_valid_input(\"Enter name: \")\n",
        "    employee_position = get_valid_type(\"Enter position: \", [\"full-time\", \"part-time\"])\n",
        "    hours_worked = get_valid_number(\"Enter hours worked: \")\n",
        "    hourly_pay = get_valid_number(\"Enter hourly paid: \")\n",
        "    location = get_valid_input(\"Enter location: \")\n",
        "\n",
        "    employees.append([employee_ID, employee_name, employee_position, hours_worked, hourly_pay, location])\n",
        "    print(\"Employee with ID \" + str(employee_ID) + \" was added\")\n",
        "\n",
        "    user_input = input(\"enter new employee? (y/n): \")[0].upper()\n",
        "    if user_input != \"Y\":\n",
        "      is_continue = False\n"
      ],
      "metadata": {
        "id": "E5urZKIBFUp3"
      },
      "execution_count": 42,
      "outputs": []
    },
    {
      "cell_type": "code",
      "source": [
        "# Let create a function called print_menu() to print the menu content using print() method. The menu shall have 3 options: 1 - Create Employees, 2 - Print Employees, 3 - Exit"
      ],
      "metadata": {
        "id": "nfbtbmQYeVfr"
      },
      "execution_count": 43,
      "outputs": []
    },
    {
      "cell_type": "code",
      "source": [
        "def print_menu():\n",
        "  print(\"Option 1 - Create Employees: \")\n",
        "  print(\"Option 2 - Print Employees: \")\n",
        "  print(\"Option 3 - Exit\")"
      ],
      "metadata": {
        "id": "SZlG2qKzehDC"
      },
      "execution_count": 44,
      "outputs": []
    },
    {
      "cell_type": "code",
      "source": [
        "# Now, let create a function called get_menu_option() to get users input for the menu options.\n",
        "# This function will prompt for users to input a number represent the menu option they would like to execute.\n",
        "# One user enters a menu option, we use a while loop to validate user input until a number within the (1, 4) range is received.\n",
        "# This function will return an integer value\n",
        "\n",
        "def get_menu_option():\n",
        "  print(\"    |\", end=\"  \")\n",
        "  menu_option = input(\"enter a menu option 1-3: \")\n",
        "  while not menu_option.isnumeric() or int(menu_option) not in range(1, 4):\n",
        "    print(\"   |\", end=\"   \")\n",
        "    menu_option = input(\"Please enter a number from 1 to 3 for the menu option: \")\n",
        "  return int(menu_option)\n",
        "\n"
      ],
      "metadata": {
        "id": "m23bS2j1fAb-"
      },
      "execution_count": 45,
      "outputs": []
    },
    {
      "cell_type": "code",
      "source": [
        "# Main flow starts here ======================================================================================"
      ],
      "metadata": {
        "id": "DtYJ4b5Tf_HX"
      },
      "execution_count": null,
      "outputs": []
    },
    {
      "cell_type": "code",
      "source": [
        "# Let create a variable call menu_option and initiate its with 0. Later on, this variable will be used to store the menu option entered by user\n",
        "menu_option = 0\n",
        "# Use a while loop and if statements to navigate users to the according function until users choose to exit the program by entering value \"3\".\n",
        "while menu_option != 3:\n",
        "  if menu_option == 1:\n",
        "    create_employees_validation()\n",
        "  elif menu_option == 2:\n",
        "    print_employees()\n",
        "  print_menu()\n",
        "  menu_option = get_menu_option()\n"
      ],
      "metadata": {
        "id": "1q0YsN4Wgtwz",
        "colab": {
          "base_uri": "https://localhost:8080/",
          "height": 736
        },
        "outputId": "d5e8365f-a7d3-469e-fa8b-31b1e0255dc6"
      },
      "execution_count": 46,
      "outputs": [
        {
          "output_type": "stream",
          "name": "stdout",
          "text": [
            "Option 1 - Create Employees: \n",
            "Option 2 - Print Employees: \n",
            "Option 3 - Exit\n",
            "    |  enter a menu option 1-3: 1\n",
            "Enter employee ID: 100\n",
            "Enter name: leo\n",
            "Enter position: full-time\n",
            "Enter hours worked: 40\n",
            "Enter hourly paid: 100\n",
            "Enter location: ON\n",
            "Employee with ID 100 was added\n",
            "enter new employee? (y/n): n\n",
            "Option 1 - Create Employees: \n",
            "Option 2 - Print Employees: \n",
            "Option 3 - Exit\n",
            "    |  enter a menu option 1-3: 2\n",
            "Employee stats\n",
            "1, Leo, full-time, 40, 15, ON, 0\n",
            "2, Jane, part-time, 20, 15, ON, 0\n"
          ]
        },
        {
          "output_type": "error",
          "ename": "IndexError",
          "evalue": "list index out of range",
          "traceback": [
            "\u001b[0;31m---------------------------------------------------------------------------\u001b[0m",
            "\u001b[0;31mIndexError\u001b[0m                                Traceback (most recent call last)",
            "\u001b[0;32m<ipython-input-46-b586fb942c32>\u001b[0m in \u001b[0;36m<cell line: 4>\u001b[0;34m()\u001b[0m\n\u001b[1;32m      6\u001b[0m     \u001b[0mcreate_employees_validation\u001b[0m\u001b[0;34m(\u001b[0m\u001b[0;34m)\u001b[0m\u001b[0;34m\u001b[0m\u001b[0;34m\u001b[0m\u001b[0m\n\u001b[1;32m      7\u001b[0m   \u001b[0;32melif\u001b[0m \u001b[0mmenu_option\u001b[0m \u001b[0;34m==\u001b[0m \u001b[0;36m2\u001b[0m\u001b[0;34m:\u001b[0m\u001b[0;34m\u001b[0m\u001b[0;34m\u001b[0m\u001b[0m\n\u001b[0;32m----> 8\u001b[0;31m     \u001b[0mprint_employees\u001b[0m\u001b[0;34m(\u001b[0m\u001b[0;34m)\u001b[0m\u001b[0;34m\u001b[0m\u001b[0;34m\u001b[0m\u001b[0m\n\u001b[0m\u001b[1;32m      9\u001b[0m   \u001b[0mprint_menu\u001b[0m\u001b[0;34m(\u001b[0m\u001b[0;34m)\u001b[0m\u001b[0;34m\u001b[0m\u001b[0;34m\u001b[0m\u001b[0m\n\u001b[1;32m     10\u001b[0m   \u001b[0mmenu_option\u001b[0m \u001b[0;34m=\u001b[0m \u001b[0mget_menu_option\u001b[0m\u001b[0;34m(\u001b[0m\u001b[0;34m)\u001b[0m\u001b[0;34m\u001b[0m\u001b[0;34m\u001b[0m\u001b[0m\n",
            "\u001b[0;32m<ipython-input-41-017ee5d7495b>\u001b[0m in \u001b[0;36mprint_employees\u001b[0;34m()\u001b[0m\n\u001b[1;32m      6\u001b[0m     \u001b[0mprint\u001b[0m\u001b[0;34m(\u001b[0m\u001b[0;34m\"Employee stats\"\u001b[0m\u001b[0;34m)\u001b[0m\u001b[0;34m\u001b[0m\u001b[0;34m\u001b[0m\u001b[0m\n\u001b[1;32m      7\u001b[0m     \u001b[0;32mfor\u001b[0m \u001b[0memployee\u001b[0m \u001b[0;32min\u001b[0m \u001b[0memployees\u001b[0m\u001b[0;34m:\u001b[0m\u001b[0;34m\u001b[0m\u001b[0;34m\u001b[0m\u001b[0m\n\u001b[0;32m----> 8\u001b[0;31m         \u001b[0mprint\u001b[0m\u001b[0;34m(\u001b[0m\u001b[0mstr\u001b[0m\u001b[0;34m(\u001b[0m\u001b[0memployee\u001b[0m\u001b[0;34m[\u001b[0m\u001b[0;36m0\u001b[0m\u001b[0;34m]\u001b[0m\u001b[0;34m)\u001b[0m \u001b[0;34m+\u001b[0m \u001b[0;34m\", \"\u001b[0m \u001b[0;34m+\u001b[0m \u001b[0memployee\u001b[0m\u001b[0;34m[\u001b[0m\u001b[0;36m1\u001b[0m\u001b[0;34m]\u001b[0m \u001b[0;34m+\u001b[0m \u001b[0;34m\", \"\u001b[0m \u001b[0;34m+\u001b[0m \u001b[0memployee\u001b[0m\u001b[0;34m[\u001b[0m\u001b[0;36m2\u001b[0m\u001b[0;34m]\u001b[0m \u001b[0;34m+\u001b[0m \u001b[0;34m\", \"\u001b[0m \u001b[0;34m+\u001b[0m \u001b[0mstr\u001b[0m\u001b[0;34m(\u001b[0m\u001b[0memployee\u001b[0m\u001b[0;34m[\u001b[0m\u001b[0;36m3\u001b[0m\u001b[0;34m]\u001b[0m\u001b[0;34m)\u001b[0m \u001b[0;34m+\u001b[0m \u001b[0;34m\", \"\u001b[0m \u001b[0;34m+\u001b[0m \u001b[0mstr\u001b[0m\u001b[0;34m(\u001b[0m\u001b[0memployee\u001b[0m\u001b[0;34m[\u001b[0m\u001b[0;36m4\u001b[0m\u001b[0;34m]\u001b[0m\u001b[0;34m)\u001b[0m \u001b[0;34m+\u001b[0m \u001b[0;34m\", \"\u001b[0m \u001b[0;34m+\u001b[0m \u001b[0memployee\u001b[0m\u001b[0;34m[\u001b[0m\u001b[0;36m5\u001b[0m\u001b[0;34m]\u001b[0m \u001b[0;34m+\u001b[0m \u001b[0;34m\", \"\u001b[0m \u001b[0;34m+\u001b[0m \u001b[0mstr\u001b[0m\u001b[0;34m(\u001b[0m\u001b[0memployee\u001b[0m\u001b[0;34m[\u001b[0m\u001b[0;36m6\u001b[0m\u001b[0;34m]\u001b[0m\u001b[0;34m)\u001b[0m\u001b[0;34m)\u001b[0m\u001b[0;34m\u001b[0m\u001b[0;34m\u001b[0m\u001b[0m\n\u001b[0m\u001b[1;32m      9\u001b[0m \u001b[0;34m\u001b[0m\u001b[0m\n\u001b[1;32m     10\u001b[0m \u001b[0;31m#helper methods for user_input validation\u001b[0m\u001b[0;34m\u001b[0m\u001b[0;34m\u001b[0m\u001b[0m\n",
            "\u001b[0;31mIndexError\u001b[0m: list index out of range"
          ]
        }
      ]
    }
  ]
}