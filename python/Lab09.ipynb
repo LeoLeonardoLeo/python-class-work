{
  "cells": [
    {
      "cell_type": "markdown",
      "metadata": {
        "id": "0iPDBL-PrCec"
      },
      "source": [
        "# Review\n",
        "In this exercise we will review the following topics from the first half of the semester:\n",
        "1.   Python data types and operations\n",
        "2.   List & Dictionary\n",
        "3.   For loop\n",
        "4.   If-else statement\n",
        "5.   Python function\n",
        "6.   Errors and Exceptions in Python"
      ]
    },
    {
      "cell_type": "code",
      "execution_count": null,
      "metadata": {
        "id": "h8PSs9qKkmuy"
      },
      "outputs": [],
      "source": [
        "#Add your name and student ID here:\n",
        "#Leonardo Pereira 101419551"
      ]
    },
    {
      "cell_type": "code",
      "execution_count": null,
      "metadata": {
        "id": "F2SKTR2bqdlP"
      },
      "outputs": [],
      "source": [
        "# Functions declaration starts here ========>"
      ]
    },
    {
      "cell_type": "code",
      "execution_count": null,
      "metadata": {
        "id": "LLw0yoD0r267"
      },
      "outputs": [],
      "source": [
        "#Question 1: Number Guessing Game\n",
        "#Task: Write a Python program to implement a simple number guessing game.\n",
        "#The program should choose a random number between 1 and 20 and ask the user to guess the number.\n",
        "#The user has unlimited attempts to guess the number correctly.\n",
        "#If the guess is too high or too low, the program should inform the user accordingly.\n",
        "#Once the user guesses the number correctly, the program should print a congratulatory message and exit.\n",
        "\n",
        "#Requirements:\n",
        "#Use the random module to generate a random number.\n",
        "#Implement a loop to allow the user to make multiple guesses.\n",
        "#Use if statements to provide hints to the user.\n",
        "#Handle non-numeric inputs gracefully and prompt the user to enter a valid number."
      ]
    },
    {
      "cell_type": "code",
      "execution_count": 2,
      "metadata": {
        "id": "rjj6hKlTr234",
        "colab": {
          "base_uri": "https://localhost:8080/"
        },
        "outputId": "f0a27303-e620-4635-e8df-0e9f4aaf1493"
      },
      "outputs": [
        {
          "output_type": "stream",
          "name": "stdout",
          "text": [
            "#I'm thinking of a number between 1 and 20.\n",
            "Take a guess: 5\n",
            "Your guess is too low\n",
            "Take a guess: 9\n",
            "Your guess is too low\n",
            "Take a guess: 1\n",
            "Your guess is too low\n",
            "Take a guess: 13\n",
            "Your guess is too high\n",
            "Take a guess: 11\n",
            "Your guess is too low\n",
            "Take a guess: 12\n",
            "Good job you guessed the number 12\n"
          ]
        }
      ],
      "source": [
        "import random\n",
        "random_number = random.randint(1,20)\n",
        "print(\"I'm thinking of a number between 1 and 20.\")\n",
        "while True:\n",
        "  try:\n",
        "    choice = int(input(\"Take a guess: \"))\n",
        "    if (choice < random_number):\n",
        "      print(\"Your guess is too low\")\n",
        "    elif (choice > random_number):\n",
        "      print(\"Your guess is too high\")\n",
        "    else:\n",
        "      print(f'Good job you guessed the number {random_number}')\n",
        "      break\n",
        "  except ValueError:\n",
        "    print(\"Please enter a valid number\")"
      ]
    },
    {
      "cell_type": "code",
      "execution_count": null,
      "metadata": {
        "id": "aZXR6Vs4BE7P"
      },
      "outputs": [],
      "source": [
        "#Expected Output:\n",
        "#I'm thinking of a number between 1 and 20.\n",
        "#Take a guess: abc\n",
        "#Please enter a valid number.\n",
        "#Take a guess: 21\n",
        "#Your guess is too high.\n",
        "#Take a guess: 10\n",
        "#Your guess is too low.\n",
        "#Take a guess: 15\n",
        "#Good job! You guessed my number 15!\n"
      ]
    },
    {
      "cell_type": "code",
      "execution_count": null,
      "metadata": {
        "id": "eBq7ha72r20z"
      },
      "outputs": [],
      "source": [
        "#Question 2: Simple ATM Interface\n",
        "#Task: Write a Python program that simulates a simple ATM interface allowing the user to deposit, withdraw, and check their balance.\n",
        "#Ensure the program handles invalid inputs and enforces that the user cannot withdraw more than their current balance.\n",
        "\n",
        "#Requirements:\n",
        "#Use a loop to create a menu-driven interface that runs until the user chooses to exit.\n",
        "#Implement if statements to process user commands.\n",
        "#Use exception handling to manage non-numeric inputs.\n",
        "#Prevent overdrawing the account."
      ]
    },
    {
      "cell_type": "code",
      "execution_count": 4,
      "metadata": {
        "id": "SiPBRAiQr2xz",
        "colab": {
          "base_uri": "https://localhost:8080/"
        },
        "outputId": "90b59cc9-fa51-4229-b964-e6917355ad97"
      },
      "outputs": [
        {
          "output_type": "stream",
          "name": "stdout",
          "text": [
            "ATM Menu:\n",
            "1. Deposit\n",
            "2. Withdraw\n",
            "3. Check Balance\n",
            "4. Exit\n",
            "Choose an action: 1\n",
            "Enter amount to deposit: 500\n",
            "$500.0 deposited\n",
            "ATM Menu:\n",
            "1. Deposit\n",
            "2. Withdraw\n",
            "3. Check Balance\n",
            "4. Exit\n",
            "Choose an action: 2\n",
            "How much to withdraw600\n",
            "Not enough money\n",
            "ATM Menu:\n",
            "1. Deposit\n",
            "2. Withdraw\n",
            "3. Check Balance\n",
            "4. Exit\n",
            "Choose an action: 2\n",
            "How much to withdraw450\n",
            "$450.0 withdrawn\n",
            "ATM Menu:\n",
            "1. Deposit\n",
            "2. Withdraw\n",
            "3. Check Balance\n",
            "4. Exit\n",
            "Choose an action: 3\n",
            "Your balance is $50.0\n",
            "ATM Menu:\n",
            "1. Deposit\n",
            "2. Withdraw\n",
            "3. Check Balance\n",
            "4. Exit\n",
            "Choose an action: 4\n",
            "Goodbye\n"
          ]
        }
      ],
      "source": [
        "balance = 0\n",
        "while True:\n",
        "  print(\"ATM Menu:\"\n",
        "      \"\\n1. Deposit\"\n",
        "      \"\\n2. Withdraw\"\n",
        "      \"\\n3. Check Balance\"\n",
        "      \"\\n4. Exit\")\n",
        "  choice = input(\"Choose an action: \")\n",
        "  try:\n",
        "    if(choice == \"1\"):\n",
        "      amount = float(input(\"Enter amount to deposit: \"))\n",
        "      balance += amount\n",
        "      print(f\"${amount} deposited\")\n",
        "    elif(choice == \"2\"):\n",
        "      amount = float(input(\"How much to withdraw\"))\n",
        "      if(amount > balance):\n",
        "        print(\"Not enough money\")\n",
        "      else:\n",
        "        balance -= amount\n",
        "        print(f\"${amount} withdrawn\")\n",
        "    elif(choice == \"3\"):\n",
        "      print(f\"Your balance is ${balance}\")\n",
        "    elif(choice == \"4\"):\n",
        "      print(\"Goodbye\")\n",
        "      break\n",
        "  except ValueError:\n",
        "    print(\"Enter valid number\")"
      ]
    },
    {
      "cell_type": "code",
      "execution_count": null,
      "metadata": {
        "id": "2iDZTySKBwiJ"
      },
      "outputs": [],
      "source": [
        "#Expected Output:\n",
        "#\n",
        "#mathematica\n",
        "#Copy code\n",
        "#ATM Menu:\n",
        "#1. Deposit\n",
        "#2. Withdraw\n",
        "#3. Check Balance\n",
        "#4. Exit\n",
        "#Choose an action: 1\n",
        "#Enter amount to deposit: 100\n",
        "#$100.0 deposited.\n",
        "#\n",
        "#ATM Menu:\n",
        "#..."
      ]
    }
  ],
  "metadata": {
    "colab": {
      "provenance": []
    },
    "kernelspec": {
      "display_name": "Python 3",
      "name": "python3"
    },
    "language_info": {
      "name": "python"
    }
  },
  "nbformat": 4,
  "nbformat_minor": 0
}