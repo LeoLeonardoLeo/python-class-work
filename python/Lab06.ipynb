{
  "cells": [
    {
      "cell_type": "markdown",
      "metadata": {
        "id": "rZICUkOECqIY"
      },
      "source": [
        "# How to Work With File I/O"
      ]
    },
    {
      "cell_type": "markdown",
      "metadata": {
        "id": "YbMakGKkEYa6"
      },
      "source": [
        "In this exercise, we will enhance our simple employees crud script by adding a mechanism to store and retrieve employee data from a persistent storage, e.g File Storage.\n",
        "\n",
        "File storage is a simple and straightforward method of storing data in which data is saved as files on a disk. It is often used for smaller applications or for applications that do not require complex querying or transactions. Advantages of file storage include simplicity, ease of use, and low overhead. However, file storage has some limitations, such as limited scalability, poor performance for large amounts of data, and the lack of built-in security and data validation."
      ]
    },
    {
      "cell_type": "markdown",
      "metadata": {
        "id": "SaEgmc-iWAKH"
      },
      "source": [
        "# Text File"
      ]
    },
    {
      "cell_type": "markdown",
      "metadata": {
        "id": "7lUusqREC5Up"
      },
      "source": [
        "Write Data to File and Read Data From txt file, then close the file manually"
      ]
    },
    {
      "cell_type": "code",
      "execution_count": null,
      "metadata": {
        "id": "S9qAF-bL4A74"
      },
      "outputs": [],
      "source": [
        "# Leonardo Pereira\n",
        "\n",
        "# Function \"add\" will add two numbers, a and b, together and return the result. Please write a unit test for the \"add\" function."
      ]
    },
    {
      "cell_type": "code",
      "execution_count": 1,
      "metadata": {
        "id": "Kq_HRM_H4VUC"
      },
      "outputs": [],
      "source": [
        "def add(a, b):\n",
        "    return a + b"
      ]
    },
    {
      "cell_type": "code",
      "execution_count": 6,
      "metadata": {
        "id": "r2LNVBNI4C2y",
        "colab": {
          "base_uri": "https://localhost:8080/"
        },
        "outputId": "9c8f8920-381b-4264-f09d-9d4738943078"
      },
      "outputs": [
        {
          "output_type": "stream",
          "name": "stderr",
          "text": [
            ".\n",
            "----------------------------------------------------------------------\n",
            "Ran 1 test in 0.004s\n",
            "\n",
            "OK\n"
          ]
        },
        {
          "output_type": "execute_result",
          "data": {
            "text/plain": [
              "<unittest.main.TestProgram at 0x79d76e275b70>"
            ]
          },
          "metadata": {},
          "execution_count": 6
        }
      ],
      "source": [
        "#Unit Test:\n",
        "import unittest\n",
        "class TestAddFunction(unittest.TestCase):\n",
        "  def test_add(self):\n",
        "    self.assertEqual(add(1, 2), 3)\n",
        "    self.assertEqual(add(-1, 1), 0)\n",
        "    self.assertEqual(add(-1, -1), -2)\n",
        "\n",
        "#if __name__ == '__main__':\n",
        "#  unittest.main()\n",
        "unittest.main(argv=[''], exit=False)"
      ]
    },
    {
      "cell_type": "code",
      "execution_count": null,
      "metadata": {
        "id": "oNhgkOCi4qyQ"
      },
      "outputs": [],
      "source": [
        "# Now create unit test for the following class:"
      ]
    },
    {
      "cell_type": "code",
      "execution_count": 32,
      "metadata": {
        "id": "FcU5eWmJ4wb0",
        "colab": {
          "base_uri": "https://localhost:8080/"
        },
        "outputId": "2c57abad-8ada-45e6-cb7d-90eec03e0c5a"
      },
      "outputs": [
        {
          "output_type": "stream",
          "name": "stderr",
          "text": [
            ".....\n",
            "----------------------------------------------------------------------\n",
            "Ran 5 tests in 0.017s\n",
            "\n",
            "OK\n"
          ]
        },
        {
          "output_type": "execute_result",
          "data": {
            "text/plain": [
              "<unittest.main.TestProgram at 0x79d76e05a470>"
            ]
          },
          "metadata": {},
          "execution_count": 32
        }
      ],
      "source": [
        "import unittest\n",
        "\n",
        "class Calculator:\n",
        "    def add(self, a, b):\n",
        "        return a + b\n",
        "    def subtract(self, a, b):\n",
        "        return a - b\n",
        "class TestCalculatorFunction(unittest.TestCase):\n",
        "    def setUp(self):\n",
        "        self.calc = Calculator()\n",
        "    def test_add(self):\n",
        "        self.assertEqual(self.calc.add(1, 3), 4)\n",
        "    def test_subtract(self):\n",
        "        self.assertEqual(self.calc.subtract(5, 3), 2)\n",
        "unittest.main(argv=[''], exit=False)\n"
      ]
    },
    {
      "cell_type": "code",
      "execution_count": null,
      "metadata": {
        "id": "ipD8hCHnFGLe"
      },
      "outputs": [],
      "source": [
        "# open the file named \"employee_data.txt\" in \"write mode\" and store the return object in a variable named \"file\""
      ]
    },
    {
      "cell_type": "code",
      "execution_count": 28,
      "metadata": {
        "id": "p94lw3X5FW18"
      },
      "outputs": [],
      "source": [
        "file = open(\"Employee_data.txt\", \"w\")"
      ]
    },
    {
      "cell_type": "code",
      "execution_count": 33,
      "metadata": {
        "colab": {
          "base_uri": "https://localhost:8080/"
        },
        "id": "ANKBO2RuMXSg",
        "outputId": "f5183c22-9e9a-49ab-c966-58f58dcb377d"
      },
      "outputs": [
        {
          "output_type": "execute_result",
          "data": {
            "text/plain": [
              "_io.TextIOWrapper"
            ]
          },
          "metadata": {},
          "execution_count": 33
        }
      ],
      "source": [
        "type(file)\n",
        "# _io.TextIOWrapper is a class in the Python Standard Library that provides a text-mode interface\n",
        "# for reading and writing text files. It is part of the io module, which is a built-in module in Python that provides a set of functions for working with I/O (input/output) operations."
      ]
    },
    {
      "cell_type": "code",
      "execution_count": null,
      "metadata": {
        "id": "u4gAmUTFFWzH"
      },
      "outputs": [],
      "source": [
        "# using write method, write the header row to the file\n",
        "# Employee ID,Employee Name,Employee Type,Hours Worked,Hourly Rate,Location,Salary\n",
        "# Do not forget to add a line break character \\n at the end of each line."
      ]
    },
    {
      "cell_type": "code",
      "execution_count": 34,
      "metadata": {
        "colab": {
          "base_uri": "https://localhost:8080/"
        },
        "id": "xChgxtI9FWwR",
        "outputId": "e7fb460b-a01d-4e78-8bb5-f40d20ab22aa"
      },
      "outputs": [
        {
          "output_type": "execute_result",
          "data": {
            "text/plain": [
              "87"
            ]
          },
          "metadata": {},
          "execution_count": 34
        }
      ],
      "source": [
        "file.write(\"Employee ID, Employee Name, Employee Type, Hours Worked, Hourly Rate, \"\n",
        " \"Location, Salary\\n\")"
      ]
    },
    {
      "cell_type": "code",
      "execution_count": null,
      "metadata": {
        "id": "QqhliL4GIPEL"
      },
      "outputs": [],
      "source": [
        "# After executed the previous line of code, navigate to the file directory, open the employee_data.txt and check if there is any content is shown.\n",
        "\n",
        "# Interesting, the file is empty! It is because the file is not yet closed.\n",
        "\n",
        "# When a file is opened for reading or writing, it is locked by the operating system to prevent other processes from accessing it.\n",
        "# Once the file has been read from or written to, the lock is released and the file can be closed. Closing the file also ensures that any changes made to the file are properly saved\n",
        "# and that any buffer data is flushed to the disk.\n",
        "\n",
        "# Failing to close a file after reading from or writing to it can result in several problems, such as data corruption or resource leaks. For example, if a file is not closed after\n",
        "# writing to it, any changes made to the file may not be saved properly and the contents of the file may become inconsistent.\n"
      ]
    },
    {
      "cell_type": "code",
      "source": [
        "# Now, add a line of code to close the file\n",
        "\n",
        "file.close()"
      ],
      "metadata": {
        "id": "4H6YKm1fL68k"
      },
      "execution_count": 37,
      "outputs": []
    },
    {
      "cell_type": "code",
      "source": [
        "# execute the file close() function, navigate to the file directory, open the employee_data.txt, you will now able to see the row header data appeared in the text file\n"
      ],
      "metadata": {
        "id": "C9222FQOL8wp"
      },
      "execution_count": null,
      "outputs": []
    },
    {
      "cell_type": "code",
      "source": [
        "# Question: If we want to write some data to the file, which mode should we use to make sure that the new data is appended to the existing data instead of overwriting it?\n",
        "# Explain the difference between 'w' and 'a' mode.\n"
      ],
      "metadata": {
        "id": "AHjvNdV5MK6W"
      },
      "execution_count": null,
      "outputs": []
    },
    {
      "cell_type": "code",
      "source": [
        "# Answer:\n",
        "# \"w\" writes into the file but writes over everything while,\n",
        "# \"a\" appends everything to the end and doesn't overwrite"
      ],
      "metadata": {
        "id": "iYthhOW4MNoj"
      },
      "execution_count": null,
      "outputs": []
    },
    {
      "cell_type": "code",
      "source": [
        "# Open the file 'employee_data.txt' in the \"append mode\" and start adding a the followinng employees into the file.\n",
        "# Don't forget to close the file when you finish writing!\n",
        "# 1, \"John Doe\", \"full-time\", 40, 25, \"AB\", 0\n",
        "# 2, \"Jane Doe\", \"part-time\", 20, 20, \"ON\", 0\n",
        "# 3, \"Bob Smith\", \"full-time\", 35, 30, \"ON\", 0\n",
        "\n",
        "file = open('Employee_data.txt', 'a')\n",
        "file.write('1, \"John Doe\", \"full-time\", 40, 25, \"AB\", 0\\n')\n",
        "file.write('2, \"Jane Doe\", \"part-time\", 20, 20, \"ON\", 0 \\n')\n",
        "file.write('3, \"Bob Smith\", \"full-time\", 35, 30, \"ON\", 0\\n')\n",
        "file.close()\n"
      ],
      "metadata": {
        "id": "VhECFAppMN1k"
      },
      "execution_count": 40,
      "outputs": []
    },
    {
      "cell_type": "code",
      "source": [
        "# open the file named \"employee_data.txt\" in \"read mode\" and store the return object in a variable named \"file\"\n",
        "file = open(\"Employee_data.txt\", \"r\")\n"
      ],
      "metadata": {
        "id": "8-dbEnkYMRU3"
      },
      "execution_count": 41,
      "outputs": []
    },
    {
      "cell_type": "code",
      "source": [
        "# try to use print(file) and see if the content of the file is printed to the screen.\n",
        "print(file)"
      ],
      "metadata": {
        "colab": {
          "base_uri": "https://localhost:8080/"
        },
        "id": "aIm7GPCgMUq0",
        "outputId": "ea5c2bb6-cb13-4996-fa1f-2396a0daba01"
      },
      "execution_count": 42,
      "outputs": [
        {
          "output_type": "stream",
          "name": "stdout",
          "text": [
            "<_io.TextIOWrapper name='Employee_data.txt' mode='r' encoding='UTF-8'>\n"
          ]
        }
      ]
    },
    {
      "cell_type": "code",
      "source": [
        "# When you use the print function to display the contents of a file object, you're actually printing a string representation\n",
        "# of the object, not its contents. To see the contents of a file, you need to use one of the following read methods to get the desired content\n",
        "# Read the entire contents of the file as a single string\n",
        "# contents = file.read()\n",
        "# Read the entire contents of the file as a list of strings\n",
        "# contents = file.readlines()\n",
        "# Read each line of the file one by one\n",
        "# line = file.readline() # while line:\n",
        "# print(\"Using readline():\\n\", line)\n",
        "# line = file.readline()\n"
      ],
      "metadata": {
        "id": "fFILLxjPMXcj"
      },
      "execution_count": null,
      "outputs": []
    },
    {
      "cell_type": "code",
      "source": [
        "# Add a script to\n",
        "# 1. open the file in read mode\n",
        "# 2. use a read method of your choice to read and print the file content\n",
        "# 3. close the file\n"
      ],
      "metadata": {
        "id": "l7MT2hxUMXZ4"
      },
      "execution_count": null,
      "outputs": []
    },
    {
      "cell_type": "code",
      "source": [
        "# Using read()\n",
        "file = open(\"Employee_data.txt\", \"r\")\n",
        "contents = file.read()\n",
        "print(contents)\n",
        "file.close()"
      ],
      "metadata": {
        "colab": {
          "base_uri": "https://localhost:8080/"
        },
        "id": "B8uj3h3kMXUX",
        "outputId": "8dc29ca1-0b72-421c-9eac-3614c6c37835"
      },
      "execution_count": 43,
      "outputs": [
        {
          "output_type": "stream",
          "name": "stdout",
          "text": [
            "Employee ID, Employee Name, Employee Type, Hours Worked, Hourly Rate, Location, Salary\n",
            "1, \"John Doe\", \"full-time\", 40, 25, \"AB\", 0\n",
            "2, \"Jane Doe\", \"part-time\", 20, 20, \"ON\", 0 \n",
            "3, \"Bob Smith\", \"full-time\", 35, 30, \"ON\", 0\n",
            "\n"
          ]
        }
      ]
    },
    {
      "cell_type": "code",
      "source": [
        "type(contents)"
      ],
      "metadata": {
        "colab": {
          "base_uri": "https://localhost:8080/"
        },
        "id": "DEPh4iMoQJsI",
        "outputId": "a6f75dc7-0d4c-4340-d81f-86cbd1af4f0c"
      },
      "execution_count": 49,
      "outputs": [
        {
          "output_type": "execute_result",
          "data": {
            "text/plain": [
              "str"
            ]
          },
          "metadata": {},
          "execution_count": 49
        }
      ]
    },
    {
      "cell_type": "code",
      "source": [
        "# Using readlines() - this will return a python list of employees instead of string.\n",
        "# Please be careful to add extra logic to split the data properly if you intend to use the return list as an input for other functions.\n",
        "# Create more job for sanitizing the data.\n",
        "file = open(\"Employee_data.txt\", \"r\")\n",
        "contents = file.readlines()\n",
        "print(contents)\n",
        "file.close()\n",
        "type(contents)"
      ],
      "metadata": {
        "colab": {
          "base_uri": "https://localhost:8080/"
        },
        "id": "j7vkb05TMW4r",
        "outputId": "8591827d-94d5-4604-f724-6ec05b756afe"
      },
      "execution_count": 53,
      "outputs": [
        {
          "output_type": "stream",
          "name": "stdout",
          "text": [
            "['Employee ID, Employee Name, Employee Type, Hours Worked, Hourly Rate, Location, Salary\\n', '1, \"John Doe\", \"full-time\", 40, 25, \"AB\", 0\\n', '2, \"Jane Doe\", \"part-time\", 20, 20, \"ON\", 0 \\n', '3, \"Bob Smith\", \"full-time\", 35, 30, \"ON\", 0\\n']\n"
          ]
        },
        {
          "output_type": "execute_result",
          "data": {
            "text/plain": [
              "list"
            ]
          },
          "metadata": {},
          "execution_count": 53
        }
      ]
    },
    {
      "cell_type": "code",
      "source": [
        "# Using readline()\n",
        "file = open(\"Employee_data.txt\", \"r\")\n",
        "line = file.readline()\n",
        "print(line)\n",
        "while line:\n",
        "  line = file.readline()\n",
        "  print(line)\n",
        "file.close()"
      ],
      "metadata": {
        "colab": {
          "base_uri": "https://localhost:8080/"
        },
        "id": "uYOj9-vAPpff",
        "outputId": "0f23c0c3-b248-4d4e-abeb-91b69192bb73"
      },
      "execution_count": 60,
      "outputs": [
        {
          "output_type": "stream",
          "name": "stdout",
          "text": [
            "Employee ID, Employee Name, Employee Type, Hours Worked, Hourly Rate, Location, Salary\n",
            "\n",
            "1, \"John Doe\", \"full-time\", 40, 25, \"AB\", 0\n",
            "\n",
            "2, \"Jane Doe\", \"part-time\", 20, 20, \"ON\", 0 \n",
            "\n",
            "3, \"Bob Smith\", \"full-time\", 35, 30, \"ON\", 0\n",
            "\n",
            "\n"
          ]
        }
      ]
    }
  ],
  "metadata": {
    "colab": {
      "provenance": []
    },
    "kernelspec": {
      "display_name": "Python 3",
      "name": "python3"
    },
    "language_info": {
      "name": "python"
    }
  },
  "nbformat": 4,
  "nbformat_minor": 0
}