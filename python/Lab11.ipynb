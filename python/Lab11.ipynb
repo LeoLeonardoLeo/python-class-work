{
  "cells": [
    {
      "cell_type": "markdown",
      "metadata": {
        "id": "3Fd6PTTs1N-h"
      },
      "source": [
        "Create the following classes:\n",
        "\n",
        "\n",
        "*   'Vehicle' class is the base class that includes common properties and methods for all vehicles, such as make, model, year, and start_engine().\n",
        "*   The 'Car' and 'Motorcycle' classes are subclasses that inherit from the Vehicle'' class and add their own unique properties and methods, such as num_doors and num_wheels.\n",
        "*   Each subclass also overrides the start() and stop() method to provide its own implementation.\n",
        "\n"
      ]
    },
    {
      "cell_type": "code",
      "execution_count": null,
      "metadata": {
        "id": "VWF4I1VyFJtW"
      },
      "outputs": [],
      "source": [
        "#Happy Nowruz\n",
        "#https://en.wikipedia.org/wiki/Nowruz\n",
        "#Leonardo Pereira 101419551"
      ]
    },
    {
      "cell_type": "markdown",
      "metadata": {
        "id": "kcQcCW_q4he4"
      },
      "source": [
        "# Vehicle Class"
      ]
    },
    {
      "cell_type": "code",
      "execution_count": null,
      "metadata": {
        "id": "fKAocU0p11W2"
      },
      "outputs": [],
      "source": [
        "# define Vehicle class with 3 private properties: make, model, year, is_started\n",
        "# set the default value = 'False' for 'is_started'"
      ]
    },
    {
      "cell_type": "code",
      "execution_count": 2,
      "metadata": {
        "id": "TDSIibwJ1NXU"
      },
      "outputs": [],
      "source": [
        "class Vehicle:\n",
        "  def __init__(self, make, model, year):\n",
        "    self.make = make\n",
        "    self.model = model\n",
        "    self.year = year\n",
        "    self.is_started = False"
      ]
    },
    {
      "cell_type": "code",
      "execution_count": null,
      "metadata": {
        "id": "by_LD8ht1_7J"
      },
      "outputs": [],
      "source": [
        "# Add methods to get and set the value of the 'make' property.\n",
        "# Use appropriate decorators for get and set method: @property and @accessor_property_name.setter"
      ]
    },
    {
      "cell_type": "code",
      "execution_count": 4,
      "metadata": {
        "id": "3ClLjotu1Te7"
      },
      "outputs": [],
      "source": [
        "class Vehicle:\n",
        "  def __init__(self, make, model, year):\n",
        "    self.make = make\n",
        "    self.model = model\n",
        "    self.year = year\n",
        "    self.is_started = False\n",
        "    @property\n",
        "    def make(self):\n",
        "      return self._make\n",
        "    @make.setter\n",
        "    def make(self, value):\n",
        "      self._make = value"
      ]
    },
    {
      "cell_type": "code",
      "execution_count": null,
      "metadata": {
        "id": "kECYmCPI2j9H"
      },
      "outputs": [],
      "source": [
        "# Similarly, add get/set methods for 'model' and 'year' property.\n",
        "# Use appropriate decorators."
      ]
    },
    {
      "cell_type": "code",
      "execution_count": 5,
      "metadata": {
        "id": "GBjoyhBF2dEG"
      },
      "outputs": [],
      "source": [
        "class Vehicle:\n",
        "  def __init__(self, make, model, year):\n",
        "    self.make = make\n",
        "    self.model = model\n",
        "    self.year = year\n",
        "    self.is_started = False\n",
        "    @property\n",
        "    def make(self):\n",
        "      return self._make\n",
        "    @make.setter\n",
        "    def make(self, value):\n",
        "      self._make = value\n",
        "    @property\n",
        "    def model(self):\n",
        "      return self._model\n",
        "    @model.setter\n",
        "    def model(self, value):\n",
        "      self._model = value\n",
        "    @property\n",
        "    def year(self):\n",
        "      return self._year\n",
        "    @year.setter\n",
        "    def year(self, value):\n",
        "      self._year = value"
      ]
    },
    {
      "cell_type": "code",
      "source": [
        "my_vechicle = Vehicle(\"BMW\", \"X3\", \"2023\")\n",
        "print(f'Vehicle Make: {my_vechicle.make}')\n",
        "print(f'Vehicle Model: {my_vechicle.model}')\n",
        "print(f'Vehicle Year: {my_vechicle.year}')\n",
        "print(f'Running: {my_vechicle.is_started}')"
      ],
      "metadata": {
        "colab": {
          "base_uri": "https://localhost:8080/"
        },
        "id": "4EAlJ0lYMbvE",
        "outputId": "235824b5-483a-4f10-8349-296bfe28b42b"
      },
      "execution_count": 6,
      "outputs": [
        {
          "output_type": "stream",
          "name": "stdout",
          "text": [
            "Vehicle Make: BMW\n",
            "Vehicle Model: X3\n",
            "Vehicle Year: 2023\n",
            "Running: False\n"
          ]
        }
      ]
    },
    {
      "cell_type": "code",
      "source": [
        "#Sub class\n",
        "class Car(Vehicle):\n",
        "  def __init__(self, make, model, year, num_doors):\n",
        "    super().__init__(make, model, year)\n",
        "    self._num_doors = num_doors\n",
        "\n",
        "  @property\n",
        "  def num_doors(self):\n",
        "    return self._num_doors\n",
        "\n",
        "  @num_doors.setter\n",
        "  def num_doors(self, value):\n",
        "    self._num_doors = value"
      ],
      "metadata": {
        "id": "h9tiE_0bN33h"
      },
      "execution_count": 12,
      "outputs": []
    },
    {
      "cell_type": "code",
      "source": [
        "my_car = Car(\"BMW\", \"X3\", 2024, 4)\n",
        "print(f'Car Make: {my_car.make}')\n",
        "print(f'Car Model: {my_car.model}')\n",
        "print(f'Car Year: {my_car.year}')\n",
        "print(f'Number of doors: {my_car.num_doors}')"
      ],
      "metadata": {
        "colab": {
          "base_uri": "https://localhost:8080/"
        },
        "id": "-6t5paqJO1_c",
        "outputId": "7fc76209-6fd1-4a8a-c16a-57db14425fb1"
      },
      "execution_count": 13,
      "outputs": [
        {
          "output_type": "stream",
          "name": "stdout",
          "text": [
            "Car Make: BMW\n",
            "Car Model: X3\n",
            "Car Year: 2024\n",
            "Number of doors: 4\n"
          ]
        }
      ]
    }
  ],
  "metadata": {
    "colab": {
      "provenance": []
    },
    "kernelspec": {
      "display_name": "Python 3",
      "name": "python3"
    },
    "language_info": {
      "name": "python"
    }
  },
  "nbformat": 4,
  "nbformat_minor": 0
}